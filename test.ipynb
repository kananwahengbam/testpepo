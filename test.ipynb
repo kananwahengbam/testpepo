{
 "cells": [
  {
   "cell_type": "markdown",
   "id": "1c38eb3e-2f4b-4c18-b619-53c73f7263db",
   "metadata": {},
   "source": [
    "# <div align=\"center\"> My Jupyter Notebook on IBM Watson Studio"
   ]
  },
  {
   "cell_type": "markdown",
   "id": "a25f02c5-89ed-46f0-979e-174d988cd053",
   "metadata": {},
   "source": [
    "**Name = Wahengbam Kanan Kumar** <br> \n",
    "Desired occupation = Data scientist"
   ]
  },
  {
   "cell_type": "markdown",
   "id": "6de05b3a-76bc-46b3-8e6d-17d414e81c72",
   "metadata": {},
   "source": [
    "*I am interested in data science because deriving cognition from data is a very interesting aspect of life*"
   ]
  },
  {
   "cell_type": "markdown",
   "id": "6a93c76e-2bb9-412b-b028-96c71b24c866",
   "metadata": {},
   "source": [
    "### In the next cell I will perform the addition of two numbers and then print it"
   ]
  },
  {
   "cell_type": "code",
   "execution_count": 1,
   "id": "0dcd23d3-8e97-488d-b972-cae5a71a1f6b",
   "metadata": {},
   "outputs": [
    {
     "name": "stdout",
     "output_type": "stream",
     "text": [
      "The product is:  4\n"
     ]
    }
   ],
   "source": [
    "a = 1\n",
    "b = 4\n",
    "c = a*b\n",
    "print(\"The product is: \", c)"
   ]
  },
  {
   "cell_type": "markdown",
   "id": "41a44476-d98b-46ac-a447-369ee969b617",
   "metadata": {},
   "source": [
    " Using Markdown or HTML, this cell must include at least 3 of the following: horizontal rule, bulleted list, numbered list, tables, hyperlinks, images, code/syntax highlighting, blocked quotes, strikethrough. <br>\n",
    " <hr> This is the horizontal rule test line\n",
    " - This is a bullet test line\n",
    " 1. This is a numbered test line <br>\n",
    " This is a test for hyperlink www.google.com <br>\n",
    "~~This is a test for strikethrough~~"
   ]
  },
  {
   "cell_type": "code",
   "execution_count": null,
   "id": "a56519e3-9f20-4ea0-9467-9c4f8bfada74",
   "metadata": {},
   "outputs": [],
   "source": []
  }
 ],
 "metadata": {
  "kernelspec": {
   "display_name": "Python",
   "language": "python",
   "name": "conda-env-python-py"
  },
  "language_info": {
   "codemirror_mode": {
    "name": "ipython",
    "version": 3
   },
   "file_extension": ".py",
   "mimetype": "text/x-python",
   "name": "python",
   "nbconvert_exporter": "python",
   "pygments_lexer": "ipython3",
   "version": "3.7.12"
  }
 },
 "nbformat": 4,
 "nbformat_minor": 5
}
